{
 "cells": [
  {
   "cell_type": "code",
   "execution_count": 3,
   "metadata": {},
   "outputs": [
    {
     "name": "stdout",
     "output_type": "stream",
     "text": [
      "http://localhost:8000/search/erkin%20aka?limit=20\n"
     ]
    },
    {
     "data": {
      "text/plain": [
       "{'uzbek_names': [{'name': 'erkin', 'score': 1},\n",
       "  {'name': 'aka', 'score': 1},\n",
       "  {'name': 'Erkin', 'score': 1.0},\n",
       "  {'name': 'Erkina', 'score': 0.8726327419281006},\n",
       "  {'name': 'Erkinoy', 'score': 0.8158225417137146},\n",
       "  {'name': 'Miskin', 'score': 0.7339638471603394},\n",
       "  {'name': 'Ilkin', 'score': 0.6825990080833435},\n",
       "  {'name': 'Eryigit', 'score': 0.6784461736679077},\n",
       "  {'name': 'Ermak', 'score': 0.6550394296646118},\n",
       "  {'name': 'Erk', 'score': 0.6549891233444214},\n",
       "  {'name': 'Erkli', 'score': 0.6507366895675659},\n",
       "  {'name': 'Ertoy', 'score': 0.609795093536377},\n",
       "  {'name': 'Ertosh', 'score': 0.5989975333213806},\n",
       "  {'name': 'Erdosh', 'score': 0.5955127477645874},\n",
       "  {'name': 'Ermakchi', 'score': 0.585990309715271},\n",
       "  {'name': 'Sokinjon', 'score': 0.5854092836380005},\n",
       "  {'name': 'Erkiyor', 'score': 0.583037793636322},\n",
       "  {'name': 'Erka', 'score': 0.5788315534591675},\n",
       "  {'name': 'Erkagul', 'score': 0.5754595398902893},\n",
       "  {'name': 'Ersoat', 'score': 0.5737608075141907},\n",
       "  {'name': 'Erdam', 'score': 0.5723210573196411},\n",
       "  {'name': 'Erkaxon', 'score': 0.5640578269958496}],\n",
       " 'russian_names': [{'name': 'еркин', 'score': 1},\n",
       "  {'name': 'ака', 'score': 1},\n",
       "  {'name': 'Иркин', 'score': 0.9127699136734009},\n",
       "  {'name': 'Енок', 'score': 0.8645362854003906},\n",
       "  {'name': 'Ектерина', 'score': 0.8621009588241577},\n",
       "  {'name': 'Екатнрина', 'score': 0.8604601621627808},\n",
       "  {'name': 'Гарник', 'score': 0.8563957214355469},\n",
       "  {'name': 'Арпеник', 'score': 0.853100061416626},\n",
       "  {'name': 'Генрик', 'score': 0.8517552614212036},\n",
       "  {'name': 'Ирик', 'score': 0.8456743955612183},\n",
       "  {'name': 'Андроник', 'score': 0.8391555547714233},\n",
       "  {'name': 'Еликонида', 'score': 0.8382605910301208},\n",
       "  {'name': 'Ириней', 'score': 0.836866557598114},\n",
       "  {'name': 'Ермак', 'score': 0.8310768604278564},\n",
       "  {'name': 'Варсеник', 'score': 0.8309149146080017},\n",
       "  {'name': 'Серик', 'score': 0.8308045864105225},\n",
       "  {'name': 'Эркин', 'score': 0.8292738199234009},\n",
       "  {'name': 'Екаткрина', 'score': 0.8291857242584229},\n",
       "  {'name': 'Никонор', 'score': 0.8262462615966797},\n",
       "  {'name': 'Илькин', 'score': 0.82500159740448},\n",
       "  {'name': 'Екатериеа', 'score': 0.8234761953353882},\n",
       "  {'name': 'Анрей', 'score': 0.8233857750892639}]}"
      ]
     },
     "execution_count": 3,
     "metadata": {},
     "output_type": "execute_result"
    }
   ],
   "source": [
    "from requests import Request\n",
    "from requests import Session\n",
    "name = input(\"Enter your name: \")\n",
    "req=  Request(\"GET\", \"http://localhost:8000/search/\" + name + \"?limit=20\").prepare()\n",
    "print(req.url)\n",
    "resp = Session().send(req)\n",
    "resp.json()"
   ]
  }
 ],
 "metadata": {
  "kernelspec": {
   "display_name": "livekit_venv",
   "language": "python",
   "name": "python3"
  },
  "language_info": {
   "codemirror_mode": {
    "name": "ipython",
    "version": 3
   },
   "file_extension": ".py",
   "mimetype": "text/x-python",
   "name": "python",
   "nbconvert_exporter": "python",
   "pygments_lexer": "ipython3",
   "version": "3.11.10"
  }
 },
 "nbformat": 4,
 "nbformat_minor": 2
}
